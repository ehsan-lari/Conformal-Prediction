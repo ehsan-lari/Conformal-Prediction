{
  "nbformat": 4,
  "nbformat_minor": 0,
  "metadata": {
    "colab": {
      "provenance": [],
      "gpuType": "T4",
      "authorship_tag": "ABX9TyNFr1/QXKaGt/lxxjAQ1yGA",
      "include_colab_link": true
    },
    "kernelspec": {
      "name": "python3",
      "display_name": "Python 3"
    },
    "language_info": {
      "name": "python"
    },
    "accelerator": "GPU"
  },
  "cells": [
    {
      "cell_type": "markdown",
      "metadata": {
        "id": "view-in-github",
        "colab_type": "text"
      },
      "source": [
        "<a href=\"https://colab.research.google.com/github/ehsan-lari/Conformal-Prediction/blob/main/ConformalPrediction_03.ipynb\" target=\"_parent\"><img src=\"https://colab.research.google.com/assets/colab-badge.svg\" alt=\"Open In Colab\"/></a>"
      ]
    },
    {
      "cell_type": "code",
      "execution_count": 1,
      "metadata": {
        "id": "uGj05fkjR3PW"
      },
      "outputs": [],
      "source": [
        "import torch\n",
        "import torch.nn as nn\n",
        "import torch.nn.functional as F\n",
        "from torchvision import datasets, transforms\n",
        "from torch.utils.data import DataLoader, random_split\n",
        "import numpy as np\n",
        "import pandas as pd"
      ]
    },
    {
      "cell_type": "code",
      "source": [
        "# Define CNN\n",
        "class FashionCNN(nn.Module):\n",
        "    def __init__(self):\n",
        "        super().__init__()\n",
        "        self.conv = nn.Sequential(\n",
        "            nn.Conv2d(1, 16, 3, padding=1),\n",
        "            nn.ReLU(),\n",
        "            nn.MaxPool2d(2),\n",
        "            nn.Conv2d(16, 32, 3, padding=1),\n",
        "            nn.ReLU(),\n",
        "            nn.MaxPool2d(2)\n",
        "        )\n",
        "        self.fc = nn.Sequential(\n",
        "            nn.Flatten(),\n",
        "            nn.Linear(32 * 7 * 7, 100),\n",
        "            nn.ReLU(),\n",
        "            nn.Linear(100, 10)\n",
        "        )\n",
        "\n",
        "    def forward(self, x):\n",
        "        return self.fc(self.conv(x))"
      ],
      "metadata": {
        "id": "u6-4quUFSG7-"
      },
      "execution_count": 2,
      "outputs": []
    },
    {
      "cell_type": "code",
      "source": [
        "# Data loading\n",
        "transform = transforms.ToTensor()\n",
        "dataset = datasets.FashionMNIST(root=\"./data\", train=True, download=True, transform=transform)\n",
        "train_set, calib_set = random_split(dataset, [50000, 10000])\n",
        "test_set = datasets.FashionMNIST(root=\"./data\", train=False, transform=transform)\n",
        "\n",
        "train_loader = DataLoader(train_set, batch_size=64, shuffle=True)\n",
        "calib_loader = DataLoader(calib_set, batch_size=64)\n",
        "test_loader = DataLoader(test_set, batch_size=1000)"
      ],
      "metadata": {
        "colab": {
          "base_uri": "https://localhost:8080/"
        },
        "id": "GvYJ3QGjSKm7",
        "outputId": "836b550d-fc1b-40bf-fb96-4d72b445a4f2"
      },
      "execution_count": 3,
      "outputs": [
        {
          "output_type": "stream",
          "name": "stderr",
          "text": [
            "100%|██████████| 26.4M/26.4M [00:02<00:00, 12.5MB/s]\n",
            "100%|██████████| 29.5k/29.5k [00:00<00:00, 209kB/s]\n",
            "100%|██████████| 4.42M/4.42M [00:01<00:00, 3.89MB/s]\n",
            "100%|██████████| 5.15k/5.15k [00:00<00:00, 14.0MB/s]\n"
          ]
        }
      ]
    },
    {
      "cell_type": "code",
      "source": [
        "# Train model\n",
        "device = torch.device(\"cuda\" if torch.cuda.is_available() else \"cpu\")\n",
        "model = FashionCNN().to(device)\n",
        "optimizer = torch.optim.Adam(model.parameters(), lr=0.001)\n",
        "loss_fn = nn.CrossEntropyLoss()\n",
        "\n",
        "model.train()\n",
        "for epoch in range(10):  # Increase epochs for better accuracy\n",
        "    for X, y in train_loader:\n",
        "        X, y = X.to(device), y.to(device)\n",
        "        optimizer.zero_grad()\n",
        "        loss = loss_fn(model(X), y)\n",
        "        loss.backward()\n",
        "        optimizer.step()"
      ],
      "metadata": {
        "id": "Q2fqkBzZSNv8"
      },
      "execution_count": 8,
      "outputs": []
    },
    {
      "cell_type": "code",
      "source": [
        "# Calibrate using softmax scores\n",
        "model.eval()\n",
        "calib_scores = []\n",
        "with torch.no_grad():\n",
        "    for X, y in calib_loader:\n",
        "        X = X.to(device)\n",
        "        probs = F.softmax(model(X), dim=1).cpu().numpy()\n",
        "        y = y.numpy()\n",
        "        calib_scores += list(1 - probs[np.arange(len(y)), y])\n",
        "\n",
        "calib_scores = np.array(calib_scores)\n",
        "q = np.quantile(calib_scores, 0.95)  # 95% coverage"
      ],
      "metadata": {
        "id": "YcpKOdHFSREt"
      },
      "execution_count": 9,
      "outputs": []
    },
    {
      "cell_type": "code",
      "source": [
        "# Prediction sets\n",
        "X_test, y_test = next(iter(test_loader))\n",
        "X_test = X_test.to(device)\n",
        "with torch.no_grad():\n",
        "    probs = F.softmax(model(X_test), dim=1).cpu().numpy()\n",
        "\n",
        "prediction_sets = [np.where(1 - p <= q)[0].tolist() for p in probs[:10]]"
      ],
      "metadata": {
        "id": "Zpd27S8USS_Z"
      },
      "execution_count": 10,
      "outputs": []
    },
    {
      "cell_type": "code",
      "source": [
        "# Show first 10 results\n",
        "df = pd.DataFrame({\n",
        "    \"True Label\": y_test[:10].numpy(),\n",
        "    \"Prediction Set\": prediction_sets\n",
        "})\n",
        "\n",
        "print(df)"
      ],
      "metadata": {
        "colab": {
          "base_uri": "https://localhost:8080/"
        },
        "id": "T1TpUZsLSVPt",
        "outputId": "9f26f751-c193-4640-f56d-4c020327cc89"
      },
      "execution_count": 11,
      "outputs": [
        {
          "output_type": "stream",
          "name": "stdout",
          "text": [
            "   True Label Prediction Set\n",
            "0           9            [9]\n",
            "1           2            [2]\n",
            "2           1            [1]\n",
            "3           1            [1]\n",
            "4           6            [6]\n",
            "5           1            [1]\n",
            "6           4            [4]\n",
            "7           6            [6]\n",
            "8           5            [5]\n",
            "9           7            [7]\n"
          ]
        }
      ]
    }
  ]
}